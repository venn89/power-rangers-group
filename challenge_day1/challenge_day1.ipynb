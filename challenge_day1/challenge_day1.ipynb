{
 "cells": [
  {
   "cell_type": "markdown",
   "metadata": {},
   "source": [
    "# Git Exercise\n",
    "In this group exercise, you will create the git repositories that you will use for other group and individual exercises!\n",
    "\n",
    "## Learning goals\n",
    "- Git basics\n",
    "- Multi-file Python projects\n",
    "    \n",
    "## Overview\n",
    "This challenge should take you about 1 hour.\n",
    "There is also a bonus challenge, which is difficult to complete and will take quite a bit longer.\n",
    "\n",
    "You should complete this challenge before starting any other challenges. Most upcoming challenges are a single iPython notebook, but in this challenge you will create your own Python files. This notebook simple contains the steps and instructions.\n",
    "You should of course work together and help each other, but every single person needs to follow these steps on their machine! Steps which should be completed only once for the whole group are marked."
   ]
  },
  {
   "cell_type": "markdown",
   "metadata": {},
   "source": [
    "## Install git\n",
    "If you don't already have git installed, do so now. You can find the needed files here: https://git-scm.com/downloads\n",
    "\n",
    "## Create a GitHub account\n",
    "Create an account at GitHub if you don't have one already: https://github.com"
   ]
  },
  {
   "cell_type": "markdown",
   "metadata": {},
   "source": [
    "## Before we start: Conflicts\n",
    "<img src=\"resources/xkcd.png\" alt=\"xkcd comic about git\" width=\"300\"/>\n",
    "\n",
    "Version control systems are amazing when they work and incredibly frustrating when anything unexpected happens. Git is no exception.\n",
    "\n",
    "At some point during this tutorial, you will probably run into some conflicts. This tutorial will not tell you exactly how to solve every conflict, because nobody remembers how to do this anyway. The good news is, the more you use version control, the more you understand how to avoid conflicts in the first place, and will eventually run into them rarely. The bad news is, you will run into them occasionally, and might have to google how to solve them. So let's just learn how to do that in the first place. This tutorial is somewhat designed to make you run into some issues, so when you do: Search engines and StackOverflow will get you out of anything.\n",
    "\n",
    "Tip: If you start your Google or DuckDuckGo search with *site:stackoverflow.com*, you're likely to find a good solution."
   ]
  },
  {
   "cell_type": "markdown",
   "metadata": {},
   "source": [
    "## AS A GROUP: Fork this repository\n",
    "Do this step only once as a group.\n",
    "You may still be reading this text in your browser on the gitlab page. Let's get it, and all other group files, onto your computer!\n",
    "\n",
    "When starting a new project for yourself or for your group, you will usually create a new, empty repository online and then *clone* it to your local computer. However, with this exercise you are not starting from scratch, but rather from all the files provided by this repository. As such, you will not create a new empty repository, but *fork* this one.\n",
    "\n",
    "To *fork* a repository mean, in git terms, to create a new repository from a copy of an existing repository. This new repository will then be independent, but still somewhat linked to the original: You can integrate changes made in the original if you want to, and you can send requests to the original to integrate changes that you have made - but this will not happen as automatically as within a single repository, where changes your teammates make will be downloaded every time you update your local copy of the repository.\n",
    "\n",
    "Find the *fork* button on the GitHub page of this project, and then name your fork computational-thinking-week-group-YourGroupName.\n",
    "Add all of your user accounts to this new repository as 'Collaborator'."
   ]
  },
  {
   "cell_type": "markdown",
   "metadata": {},
   "source": [
    "## Clone your fork!\n",
    "Back to some individual tasks: Everyone should now create a local copy of this new repository. To do this, you *clone* the repository to your computer.\n",
    "\n",
    "Open a console to the directory in which you want to store the project. On the GitHub page of your project, click the '<> Code' button to find the link with which you can clone this repository. Now, in the console, type:\n",
    "\n",
    ">git clone \\<link to your repository>"
   ]
  },
  {
   "cell_type": "markdown",
   "metadata": {},
   "source": [
    "## Fork and clone the individual challenge repository\n",
    "Now that you're a forking and cloning expert, let's do the same to the individual repository. This one, everyone forks for themselves, so please name it computational-thinking-week-individual-012345 where 012345 is your student number.\n",
    "\n",
    "The individual challenge repo is here: https://github.com/ansteeg/robot-camp-individual\n",
    "\n",
    "Once you have cloned your invidual challenge repository, you can leave it and return to the group repository. We will work only in the group repository for the rest of this challenge!"
   ]
  },
  {
   "cell_type": "markdown",
   "metadata": {},
   "source": [
    "## Commit a Python file\n",
    "\n",
    "Now, in this directory (challenge_day3), create a Python file. In this file, create a function which returns your name as a string. Then:\n",
    "1) Stage this file for commit using\n",
    "> git add path/to/file.py\n",
    "2) Commit this file using\n",
    "> git commit -m \"This is a message describing what I did\"\n",
    "3) Push this file to the online repository, so that others can see it\n",
    "> git push\n",
    "4) See if anyone else already put any files up by updating your local repository:\n",
    "> git pull\n",
    "\n",
    "If at any point you're not sure what stage git is currently in, this might help:\n",
    "> git status\n"
   ]
  },
  {
   "cell_type": "markdown",
   "metadata": {},
   "source": [
    "## AS A GROUP: Create a Python file together\n",
    "\n",
    "So far, your Python projects have usually consisted of a single Python script. But larger projects may require multiple files. Just like you import numpy, pandas, etc, you can import your own scripts.\n",
    "- Create a new Python file called git_exercise.py in this directory.\n",
    "- In this file, import all the Python files created by your individual team members in the previous step.\n",
    "- Write a function that first writes \"This is Team YourTeamNameHere. We are:\"\n",
    "- Then, the function should call all the functions from the individiual files and print what they return in order to list your team members.\n",
    "- Commit and push this file so others can see it."
   ]
  },
  {
   "cell_type": "code",
   "execution_count": null,
   "metadata": {
    "vscode": {
     "languageId": "plaintext"
    }
   },
   "outputs": [],
   "source": []
  },
  {
   "cell_type": "markdown",
   "metadata": {},
   "source": [
    "Once you completed your story, make sure everything is committed and pushed to the repository, and let us know via slack that your challenge is ready to be tested by sending to Lukas Ansteeg:\n",
    "- Your group name\n",
    "- The link to your public group repository\n",
    "- The names of all your team members together with:\n",
    "- The links to all your team members individual repositories.\n",
    "\n",
    "Then come to where Lukas and Kirils are sitting to pick up your first stickers!\n",
    "If you have enough time left, you may attempt the very difficult bonus challenge below. Tomorrow, the next group challenge will be introduced!"
   ]
  },
  {
   "cell_type": "markdown",
   "metadata": {},
   "source": [
    "## OPTIONAL BONUS: Group with individual parts: Write a short story\n",
    "So, now that you know how git works and how to use multiple Python files together, it's time for a proper challenge: You're going to write a short collaborative story.\n",
    "\n",
    "The story has to fulfil the following conditions:\n",
    "- Assignment\n",
    "    - When running git_exercise.py, the message about your team name and members should be printed, followed by the story. Nothing else should be printed.\n",
    "    - The file git_exercise.py may contain no strings itself.\n",
    "- Paragraphs\n",
    "    - Your story consists of three acts.\n",
    "    - Each team member wrote one paragraph for each act, making a total of three paragraphs per person.\n",
    "    - No paragraph may be preceeded or followed directly by a paragraph written by the same person.\n",
    "    - Every paragraph was initially committed with spelling errors or gaps to be filled, which were subsequently fixed by at least two other members of the team with at least two additional commits.\n",
    "- Characters\n",
    "    - The story includes at least as many characters as your team has members.\n",
    "    - The name of one of each of these characters is written in each team member's file where they also wrote their paragraphs and only in this file.\n",
    "    - The name of every character appears in every paragraph.\n"
   ]
  },
  {
   "cell_type": "markdown",
   "metadata": {},
   "source": []
  },
  {
   "cell_type": "markdown",
   "metadata": {},
   "source": []
  }
 ],
 "metadata": {
  "kernelspec": {
   "display_name": "Python 3.10.5 64-bit",
   "language": "python",
   "name": "python3"
  },
  "language_info": {
   "codemirror_mode": {
    "name": "ipython",
    "version": 3
   },
   "file_extension": ".py",
   "mimetype": "text/x-python",
   "name": "python",
   "nbconvert_exporter": "python",
   "pygments_lexer": "ipython3",
   "version": "3.10.5"
  },
  "orig_nbformat": 4,
  "vscode": {
   "interpreter": {
    "hash": "2f9d6cf1e3d8195079a65c851de355134a77367bcd714b1a5d498c42d3c07114"
   }
  }
 },
 "nbformat": 4,
 "nbformat_minor": 2
}
