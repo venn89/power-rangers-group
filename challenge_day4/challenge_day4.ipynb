{
 "cells": [
  {
   "cell_type": "markdown",
   "metadata": {},
   "source": [
    "# Lost in Translation Challenge\n",
    "For the last challenge, we want to give you something that will sound very difficult but which we are confident you'll have no problem with. When you learn the first programming language (Python for most of you), you have already opened the door to directly use all other programming languages, as the basic logic is common to all of them.\n",
    "\n",
    "The last challenge is a multi-language challenge, which you have to complete using different programming languages. We have prepared 6 other languages for you, and each person in your group will be responsible for at least one language.\n",
    "\n",
    "- The first person will be responsible for the R programming language\n",
    "- The second person will be responsible for Go/Golang\n",
    "- The third person will be responsible for Julia\n",
    "- The fourth person will be responsible for Lua\n",
    "- The fifth person will be responsible for Rust\n",
    "- The sixth person will work on Scala\n",
    "\n",
    "## Part 1\n",
    "As the first part of the challenge, you need to try to install the corresponding language yourselves and run a \"Hello World\" program. The program is very simple and is already written for you in the materials; you just need to run it.\n",
    "\n",
    "## Part 2\n",
    "For the second part of the challenge, you need to successfully run a more complex program. We've written the programs for you, but each of them now still has a minor error (you don't need to know the language to spot them). You need to find this small error and then finish running the program. Each successful run will take a piece of data as input, called data(x), and produce data(x+1) as output. The output data(x+1) will be the input for next program. In this way, from data1 you will eventually get to data7. We have prepared test data that has been run successfully so that you do not have to wait until the previous person has finished before you can test it.\n",
    "\n",
    "When all the procedures have run successfully, your group together will be able to perform a total of 6 programs. At this point, please convert the full data “data1.json” into data7 through all 6 programs.\n",
    "\n",
    "## Notes\n",
    "- You don’t need in-depth knowledge of other language to complete this task.\n",
    "- When installing each language, if your command is not found automatically, you may need to import the path to the file of environmental variable, and update the file.\n",
    "- When running a Rust script, you need to compile and run, which are two separate steps.\n",
    "- For this task (unlike for other tasks), you can use ChatGPT or other methods."
   ]
  }
 ],
 "metadata": {
  "kernelspec": {
   "display_name": "Python 3.10.5 64-bit",
   "language": "python",
   "name": "python3"
  },
  "language_info": {
   "name": "python",
   "version": "3.10.5"
  },
  "orig_nbformat": 4,
  "vscode": {
   "interpreter": {
    "hash": "2f9d6cf1e3d8195079a65c851de355134a77367bcd714b1a5d498c42d3c07114"
   }
  }
 },
 "nbformat": 4,
 "nbformat_minor": 2
}
